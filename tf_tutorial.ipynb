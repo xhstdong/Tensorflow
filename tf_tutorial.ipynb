{
 "cells": [
  {
   "cell_type": "code",
   "execution_count": 1,
   "metadata": {
    "collapsed": true
   },
   "outputs": [],
   "source": [
    "#this is a practice run building ANN with tensorflow python API\n",
    "\n",
    "import pandas as pd\n",
    "import numpy as np\n",
    "import matplotlib.pyplot as plt\n",
    "import tensorflow as tf"
   ]
  },
  {
   "cell_type": "code",
   "execution_count": 7,
   "metadata": {
    "collapsed": false
   },
   "outputs": [
    {
     "name": "stdout",
     "output_type": "stream",
     "text": [
      "Extracting /tmp/data/train-images-idx3-ubyte.gz\n",
      "Extracting /tmp/data/train-labels-idx1-ubyte.gz\n",
      "Extracting /tmp/data/t10k-images-idx3-ubyte.gz\n",
      "Extracting /tmp/data/t10k-labels-idx1-ubyte.gz\n",
      "WARNING:tensorflow:From <ipython-input-7-7448746a66cd>:50 in train_neural_network.: initialize_all_variables (from tensorflow.python.ops.variables) is deprecated and will be removed after 2017-03-02.\n",
      "Instructions for updating:\n",
      "Use `tf.global_variables_initializer` instead.\n",
      "Epoch 0  completed out of  10 loss: 1875466.56901\n",
      "Epoch 1  completed out of  10 loss: 422991.412714\n",
      "Epoch 2  completed out of  10 loss: 226816.645308\n",
      "Epoch 3  completed out of  10 loss: 131476.35142\n",
      "Epoch 4  completed out of  10 loss: 82876.1312688\n",
      "Epoch 5  completed out of  10 loss: 49765.1163189\n",
      "Epoch 6  completed out of  10 loss: 30818.2222653\n",
      "Epoch 7  completed out of  10 loss: 24612.3002597\n",
      "Epoch 8  completed out of  10 loss: 20867.5823575\n",
      "Epoch 9  completed out of  10 loss: 16660.2622637\n",
      "Accuracy: 0.9524\n"
     ]
    }
   ],
   "source": [
    "from tensorflow.examples.tutorials.mnist import input_data\n",
    "\n",
    "#allow 1 vs all\n",
    "mnist = input_data.read_data_sets('/tmp/data/', one_hot=True)\n",
    "\n",
    "#10 classes: 0 to 9\n",
    "n_nodes_hl1 = 500;\n",
    "n_nodes_hl2 = 500;\n",
    "n_nodes_hl3 = 500;\n",
    "\n",
    "n_classes = 10\n",
    "batch_size=100 #100 images each run to save resources\n",
    "\n",
    "x = tf.placeholder('float',[None,28*28])\n",
    "y = tf.placeholder('float',)\n",
    "\n",
    "#define network structure\n",
    "def neural_network_model(data):\n",
    "    hidden_1_layer = {'weights':tf.Variable(tf.random_normal([784, n_nodes_hl1])),\n",
    "                     'biases': tf.Variable(tf.random_normal([n_nodes_hl1]))}\n",
    "    hidden_2_layer = {'weights':tf.Variable(tf.random_normal([n_nodes_hl1, n_nodes_hl2])),\n",
    "                     'biases': tf.Variable(tf.random_normal([n_nodes_hl2]))}\n",
    "    hidden_3_layer = {'weights':tf.Variable(tf.random_normal([n_nodes_hl2, n_nodes_hl3])),\n",
    "                     'biases': tf.Variable(tf.random_normal([n_nodes_hl3]))}\n",
    "    output_layer = {'weights':tf.Variable(tf.random_normal([n_nodes_hl3, n_classes])),\n",
    "                     'biases': tf.Variable(tf.random_normal([n_classes]))}\n",
    "    l1=tf.add(tf.matmul(data, hidden_1_layer['weights']),hidden_1_layer['biases'])\n",
    "    l1=tf.nn.relu(l1)\n",
    "    l2=tf.add(tf.matmul(l1, hidden_2_layer['weights']),hidden_2_layer['biases'])\n",
    "    l2=tf.nn.relu(l2)\n",
    "    l3=tf.add(tf.matmul(l2, hidden_3_layer['weights']),hidden_3_layer['biases'])\n",
    "    l3=tf.nn.relu(l3)\n",
    "    \n",
    "    output=tf.matmul(l3, output_layer['weights']) + output_layer['biases']\n",
    "    \n",
    "    return output\n",
    "\n",
    "#define training procedure\n",
    "def train_neural_network(x):\n",
    "    prediction = neural_network_model(x)\n",
    "    cost = tf.reduce_mean(tf.nn.softmax_cross_entropy_with_logits(prediction, y)) #<-cost function\n",
    "    \n",
    "    #minimize cost with optimizer\n",
    "    # learning rate parameter input here\n",
    "    #back propagation is embedded\n",
    "    optimizer= tf.train.AdamOptimizer().minimize(cost)\n",
    "    \n",
    "    hm_epochs = 10 #cycles\n",
    "    with tf.Session() as sess:\n",
    "        #sess.run(tf.initialize_all_variables())\n",
    "        sess.run(tf.global_variables_initializer())\n",
    "        for epoch in range(hm_epochs):\n",
    "            epoch_loss =0\n",
    "            for _ in range(int(mnist.train.num_examples/batch_size)):\n",
    "                epoch_x,epoch_y = mnist.train.next_batch(batch_size)\n",
    "                _, c= sess.run([optimizer, cost],feed_dict={x:epoch_x, y:epoch_y})\n",
    "                epoch_loss +=c\n",
    "            print('Epoch',epoch, ' completed out of ', hm_epochs, 'loss:',epoch_loss)\n",
    "        \n",
    "        #validate predictions\n",
    "        correct = tf.equal(tf.argmax(prediction, 1),tf.argmax(y,1))\n",
    "        \n",
    "        accuracy=tf.reduce_mean(tf.cast(correct,'float'))\n",
    "        print('Accuracy:', accuracy.eval({x:mnist.test.images, y:mnist.test.labels}))\n",
    "        \n",
    "train_neural_network(x)"
   ]
  },
  {
   "cell_type": "code",
   "execution_count": null,
   "metadata": {
    "collapsed": true
   },
   "outputs": [],
   "source": []
  }
 ],
 "metadata": {
  "anaconda-cloud": {},
  "kernelspec": {
   "display_name": "Python 3",
   "language": "python",
   "name": "python3"
  },
  "language_info": {
   "codemirror_mode": {
    "name": "ipython",
    "version": 3
   },
   "file_extension": ".py",
   "mimetype": "text/x-python",
   "name": "python",
   "nbconvert_exporter": "python",
   "pygments_lexer": "ipython3",
   "version": "3.6.0"
  }
 },
 "nbformat": 4,
 "nbformat_minor": 1
}
